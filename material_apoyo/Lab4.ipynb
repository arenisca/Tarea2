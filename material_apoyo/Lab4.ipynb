{
 "cells": [
  {
   "attachments": {},
   "cell_type": "markdown",
   "metadata": {},
   "source": [
    "# Laboratorio 4\n",
    "Estructuras de Datos\n",
    "\n",
    "Sección 3\n",
    "\n",
    "05/04/2024\n",
    "\n",
    "Pedro Muñoz Solano\n",
    "\n",
    "pemunoz2021@udec.cl"
   ]
  },
  {
   "attachments": {},
   "cell_type": "markdown",
   "metadata": {},
   "source": [
    "# Queues (Colas)\n",
    "\n",
    "Una queue o cola es una estructura de datos la cual, semejante al stack, sus operaciones siguen un orden especìfico. En este caso las operaciones sigues la lógica FIFO (First In, First Out), que significa que el primer elemento que se añade a la cola será el primer elemento en salir o en ser eliminado. En una queue, el final de esta (ultimo elemento añadido) se conoce como \"cola\" (tail) y el inicio (elemento próximo a salir) como \"cabeza\" (head)."
   ]
  },
  {
   "cell_type": "markdown",
   "metadata": {},
   "source": [
    "# Queue STD"
   ]
  },
  {
   "cell_type": "markdown",
   "metadata": {},
   "source": [
    "Los métodos esenciales de una queue de la librería estándar de C++ son los siguientes:\n",
    "\n",
    "    pop(): elimina el elemento al frente de la queue.\n",
    "    push(): agrega un elemento al final de la queue.\n",
    "    back(): devuelve el elemento al final de la cola sin eliminarlo.\n",
    "    front(): devuelve el elemento al frente de la cola sin eliminarlo.\n",
    "    empty(): devuelve true si la está vacía, false en caso contrario.\n",
    "    size(): devuelve el número de elementos que hay en la cola.\n",
    "\n",
    "    "
   ]
  },
  {
   "cell_type": "markdown",
   "metadata": {},
   "source": [
    "\n",
    "## Ejercicio: Cola de atención en un banco.\n",
    "\n",
    "Deberás simular un sistema de atención de clientes en un banco utilizando una cola.\n",
    "\n",
    "Instrucciones:\n",
    "\n",
    "- Crea una estructura llamada Cliente que contenga dos campos: nombre (string) y numero (int).\n",
    "\n",
    "- Crea una cola llamada filaClientes que almacenará objetos del tipo Cliente.\n",
    "\n",
    "- Agrega al menos tres clientes a la cola filaClientes, especificando su nombre y número en orden de llegada.\n",
    "\n",
    "- Muestra el estado inicial de la fila de clientes, indicando el nombre y número de cada cliente en la fila.\n",
    "\n",
    "- Agrega al menos dos clientes más a la fila filaClientes.\n",
    "\n",
    "- Muestra el estado actualizado de la fila de clientes después de agregar los nuevos clientes.\n",
    "\n",
    "- Finalmente, vacía la cola filaClientes y muestra un mensaje indicando que la fila está vacía.\n",
    "\n",
    "Para esto, debes incluir las librerias \"queue\" y \"string\".\n"
   ]
  },
  {
   "cell_type": "code",
   "execution_count": null,
   "metadata": {
    "vscode": {
     "languageId": "cpp"
    }
   },
   "outputs": [],
   "source": [
    "#include <iostream>\n",
    "#include <queue>\n",
    "#include <string>\n",
    "\n",
    "using namespace std;\n",
    "\n",
    "struct Cliente {\n",
    "    string nombre;\n",
    "    int numero;\n",
    "};\n",
    "\n",
    "int main() {\n",
    "    queue<Cliente> filaClientes;\n",
    "\n",
    "    filaClientes.push({\"Pedro\", 1});\n",
    "    filaClientes.push({\"Seba\", 2});\n",
    "    filaClientes.push({\"Lizandro\", 3});\n",
    "\n",
    "    cout << \"Ultimo cliente en la fila:\" << filaClientes.back().nombre << endl;\n",
    "\n",
    "    cout << \"Estado inicial de la fila de clientes:\" << endl;\n",
    "    while (!filaClientes.empty()) {\n",
    "        cout << \"Cliente \" << filaClientes.front().nombre << \" (Número \" << filaClientes.front().numero << \")\" << endl;\n",
    "        filaClientes.pop();\n",
    "    }\n",
    "\n",
    "    filaClientes.push({\"Tomás\", 4});\n",
    "    filaClientes.push({\"Franche\", 5});\n",
    "\n",
    "    while (!filaClientes.empty()) {\n",
    "        cout << \"Cliente \" << filaClientes.front().nombre << \" (Número \" << filaClientes.front().numero << \")\" << endl;\n",
    "        filaClientes.pop();\n",
    "    }\n",
    "\n",
    "    return 0;\n",
    "}\n"
   ]
  },
  {
   "cell_type": "markdown",
   "metadata": {},
   "source": [
    "# Arreglo Circular\n",
    "\n",
    "Una forma de implementar una queue es utilizando un arreglo circular. En un arreglo circular, el inicio y el final de la cola pueden envolver alrededor del final del arreglo al principio, de ahí el nombre de \"circular\". Por ejemplo, si se tiene un arreglo de tamaño 5 y se han encolado 5 elementos (A,B,C,D,E), el arreglo se vería así:\n",
    "\n",
    "0 1 2 3 4\n",
    "\n",
    "A B C D E\n",
    "\n",
    "Sacando dos elementos con pop() quedaría así:\n",
    "\n",
    "0 1 2 3 4\n",
    "\n",
    ". . C D E\n",
    "\n",
    "Luego si encolamos dos elementos nuevos (F,G), en una cola basada en arreglos normales deberíamos mover todos los elementos al principio del arreglo, ¿no?. Pero en un arreglo circular simplemente podemos \"envolver\" el arreglo al principio y colocar F y G en las posiciones 0 y 1:\n",
    "\n",
    "0 1 2 3 4\n",
    "\n",
    "F G C D E\n",
    "\n",
    "De esta manera, las operaciones de push() y pop() son mucho más eficientes ya que no se necesita mover los elementos todo el rato (hay una \"excepción que veremos un poco más tarde).\n",
    "\n"
   ]
  },
  {
   "cell_type": "markdown",
   "metadata": {},
   "source": [
    "# Queue ADT\n",
    "\n",
    "Una Queue ADT podría ser de la siguiente forma:"
   ]
  },
  {
   "cell_type": "code",
   "execution_count": null,
   "metadata": {
    "vscode": {
     "languageId": "cpp"
    }
   },
   "outputs": [],
   "source": [
    "#ifndef QUEUEADT\n",
    "#define QUEUEADT\n",
    "\n",
    "class QueueADT{\n",
    "\n",
    "    public:\n",
    "        virtual void enqueue(int) = 0;\n",
    "        virtual void dequeue() = 0;\n",
    "        virtual int front() = 0;\n",
    "        virtual bool is_empty() = 0;\n",
    "        virtual int size() = 0; \n",
    "};\n",
    "\n",
    "#endif"
   ]
  },
  {
   "cell_type": "markdown",
   "metadata": {},
   "source": [
    "# Implementación de Queue con arreglo circular"
   ]
  },
  {
   "cell_type": "code",
   "execution_count": null,
   "metadata": {
    "vscode": {
     "languageId": "cpp"
    }
   },
   "outputs": [],
   "source": [
    "#ifndef CIRCULARARRAYQUEUE\n",
    "#define CIRCULARARRAYQUEUE\n",
    "\n",
    "#include \"QueueADT.h\"\n",
    "\n",
    "class CircularArrayQueue {\n",
    "    private:\n",
    "        int head;\n",
    "        int tail;\n",
    "        int* arr;\n",
    "        int capacity;\n",
    "        int count;\n",
    "        bool isFull();\n",
    "\n",
    "    public:\n",
    "        CircularArrayQueue(int size);\n",
    "        ~CircularArrayQueue();\n",
    "        void enqueue(int item);\n",
    "        void dequeue();\n",
    "        int front();\n",
    "        bool isEmpty();\n",
    "        int size();\n",
    "};\n",
    "\n",
    "#endif"
   ]
  },
  {
   "cell_type": "code",
   "execution_count": null,
   "metadata": {
    "vscode": {
     "languageId": "cpp"
    }
   },
   "outputs": [],
   "source": [
    "#include \"CircularArrayQueue.h\"\n",
    "#include <iostream>\n",
    "\n",
    "CircularArrayQueue::CircularArrayQueue(int size) {\n",
    "    arr = new int[size];\n",
    "    capacity = size;\n",
    "    head = 0;\n",
    "    tail = -1;\n",
    "    count = 0;\n",
    "}\n",
    "\n",
    "CircularArrayQueue::~CircularArrayQueue() {\n",
    "    delete[] arr;\n",
    "}\n",
    "\n",
    "void CircularArrayQueue::enqueue(int item) {\n",
    "    if (isFull()) {\n",
    "        int newCapacity = 2 * capacity;\n",
    "        int* newArr = new int[newCapacity];\n",
    "\n",
    "        for (int i = 0; i < capacity; i++) {\n",
    "            newArr[i] = arr[(head + i) % capacity];\n",
    "        }\n",
    "        delete[] arr;\n",
    "\n",
    "        arr = newArr;\n",
    "        capacity = newCapacity;\n",
    "        head = 0;\n",
    "        tail = count - 1;\n",
    "    }\n",
    "\n",
    "    // Agregar el nuevo elemento\n",
    "    tail = (tail + 1) % capacity;\n",
    "    arr[tail] = item;\n",
    "    count++;\n",
    "}\n",
    "\n",
    "void CircularArrayQueue::dequeue() {\n",
    "    if (isEmpty()) {\n",
    "        std::cout << \"La cola está vacía\\n\";\n",
    "        return;\n",
    "    }\n",
    "    head = (head + 1) % capacity;\n",
    "    count--;\n",
    "}\n",
    "\n",
    "int CircularArrayQueue::front() {\n",
    "    if (isEmpty()) {\n",
    "        std::cout << \"La cola está vacía\\n\";\n",
    "        return -1;\n",
    "    }\n",
    "    return arr[head];\n",
    "}\n",
    "\n",
    "bool CircularArrayQueue::isEmpty() {\n",
    "    return (count == 0);\n",
    "}\n",
    "\n",
    "bool CircularArrayQueue::isFull() {\n",
    "    return (count == capacity);\n",
    "}\n",
    "\n",
    "int CircularArrayQueue::size() {\n",
    "    return count;\n",
    "}"
   ]
  },
  {
   "cell_type": "markdown",
   "metadata": {},
   "source": [
    "# Variante de Queue\n",
    "\n",
    "¿Que pasaría si tuviesemos una queue con elementos consecutivos? ¿Podríamos optimizar el espacio utilizado, facilitar la interpretación y el procesamiento de los datos?"
   ]
  },
  {
   "cell_type": "code",
   "execution_count": null,
   "metadata": {
    "vscode": {
     "languageId": "cpp"
    }
   },
   "outputs": [],
   "source": [
    "// queuePair.h\n",
    "\n",
    "#ifndef QUEUEPAIR_H\n",
    "#define QUEUEPAIR_H\n",
    "\n",
    "#include <queue>\n",
    "#include <vector>\n",
    "\n",
    "class QueuePair {\n",
    "private:\n",
    "    std::queue<std::pair<int, int>> data; \n",
    "\n",
    "public:\n",
    "    void procesarVector(std::vector<int> vec);\n",
    "    void imprimirQueue();\n",
    "};\n",
    "\n",
    "#endif \n",
    "\n",
    "// ----------------------------\n",
    "\n",
    "// queuePair.cpp\n",
    "\n",
    "#include <iostream>\n",
    "\n",
    "void QueuePair::procesarVector(std::vector<int> vec) {\n",
    "    if (vec.empty())\n",
    "        return;\n",
    "\n",
    "    int current = vec[0];\n",
    "    int count = 1;\n",
    "\n",
    "    for (size_t i = 1; i < vec.size(); ++i) {\n",
    "        if (vec[i] == current) {\n",
    "            ++count;\n",
    "        } else {\n",
    "            data.push(std::make_pair(current, count));\n",
    "            current = vec[i];\n",
    "            count = 1;\n",
    "        }\n",
    "    }\n",
    "\n",
    "    data.push(std::make_pair(current, count));\n",
    "}\n",
    "\n",
    "void QueuePair::imprimirQueue() {\n",
    "    while (!data.empty()) {\n",
    "        std::pair<int, int> pair = data.front();\n",
    "        std::cout << pair.second << \" \" << pair.first << \"'s \";\n",
    "        data.pop();\n",
    "    }\n",
    "    std::cout << std::endl;\n",
    "}\n",
    "\n",
    "// ----------------------------\n",
    "\n",
    "// main.cpp\n",
    "\n",
    "#include <iostream>\n",
    "#include <vector>\n",
    "#include \"queuePair.h\"\n",
    "\n",
    "int main() {\n",
    "    std::vector<int> vec = {1, 1, 1, 1, 1, 6, 6, 6, 7, 7, 7, 8, 8};\n",
    "\n",
    "    QueuePair counter;\n",
    "    counter.procesarVector(vec);\n",
    "\n",
    "    std::cout << \"EJEMPLO DE QUEUE: \";\n",
    "    counter.imprimirQueue();\n",
    "\n",
    "    return 0;\n",
    "}\n"
   ]
  }
 ],
 "metadata": {
  "language_info": {
   "name": "python"
  },
  "orig_nbformat": 4
 },
 "nbformat": 4,
 "nbformat_minor": 2
}
