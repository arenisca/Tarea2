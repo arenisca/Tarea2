{
  "cells": [
    {
      "cell_type": "markdown",
      "metadata": {
        "id": "KJaXYUvX3WPS"
      },
      "source": [
        "# Laboratorio 1\n",
        "Estructuras de Datos\n",
        "\n",
        "Sección 3\n",
        "\n",
        "15/03/2024\n",
        "\n",
        "Pedro Muñoz Solano\n",
        "\n",
        "pemunoz2021@inf.udec.cl"
      ]
    },
    {
      "cell_type": "markdown",
      "metadata": {
        "id": "E7B89ahB3WPU"
      },
      "source": [
        "## F.A.Q 🤔"
      ]
    },
    {
      "cell_type": "markdown",
      "metadata": {
        "id": "ckxlg2Cv3WPU"
      },
      "source": [
        "Evitar estas preguntas a menos que lo hayan intentado todo:\n"
      ]
    },
    {
      "cell_type": "markdown",
      "metadata": {
        "id": "G0mBEtB33WPU"
      },
      "source": [
        "- \"Mi código está bueno y da error de compilación\".\n",
        "    - Incluiste todas las librerías?, estás compilando con las flags correctas (si corresponde)?"
      ]
    },
    {
      "cell_type": "markdown",
      "metadata": {
        "id": "sa5krhDm3WPV"
      },
      "source": [
        "\n",
        "- \"Mi código está bueno y no funciona y/o entrega una solución incorrecta\".\n",
        "    - No está bueno, revisalo de nuevo, prueba distintos casos."
      ]
    },
    {
      "cell_type": "markdown",
      "metadata": {
        "id": "5gEpLSfw3WPV"
      },
      "source": [
        "- \"No sé donde está el error, me puedes ayudar?\"\n",
        "    - Si te voy a ayudar, pero debuggear código ajeno y largo, hasta para un profesional es difícil, más aún si el error no es evidente (mal manejo de memoria por ejemplo), por lo que cuanto tiempo le puedo dedicar a esto es situacional.\n",
        "    - Para esto siempre es bueno ir probando el código a medida que se va construyendo con pequeños testings."
      ]
    },
    {
      "cell_type": "markdown",
      "metadata": {
        "id": "3GyPnL7S3WPV"
      },
      "source": [
        "Para preguntas fuera del laboratorio, preguntarme por teams y voy a intentar responder lo más pronto posible"
      ]
    },
    {
      "cell_type": "markdown",
      "metadata": {
        "id": "9DAyCdvb3WPV"
      },
      "source": [
        "Recursos ante dudas:\n",
        "- Stackoverflow.\n",
        "- cppreference.\n",
        "- geekforgeeks.\n",
        "- w3school.\n",
        "\n",
        "Independiente de la fuente que consulten, **siempre** deben entender que están haciendo.\n",
        "\n",
        "\n",
        "Ojo con el ChatGPT👀"
      ]
    },
    {
      "cell_type": "markdown",
      "metadata": {
        "id": "GMd-jzQb3WPV"
      },
      "source": [
        "## C++ 👩‍💻"
      ]
    },
    {
      "cell_type": "markdown",
      "metadata": {
        "id": "jtYMZCFS3WPV"
      },
      "source": [
        "Lenguaje basado en C, con características extra y soporte para Programación Orientada a Objetos."
      ]
    },
    {
      "cell_type": "markdown",
      "metadata": {
        "id": "HGvsdppf3WPW"
      },
      "source": [
        "### Compilación"
      ]
    },
    {
      "cell_type": "markdown",
      "metadata": {
        "id": "ZrqNWna33WPW"
      },
      "source": [
        "- *Asegurarse que todos tengan un ambiente para programar* (Editor de texto + compilador)\n",
        "- En linux los compiladores gcc o g++ deben venir por defecto. Para compilar con: gcc -std=c++17 file.cpp / g++ file.ccp\n",
        "- Para Windows se debe descargar compilador minGW.\n",
        "- En MacOS también se usa gcc/g++"
      ]
    },
    {
      "cell_type": "code",
      "execution_count": null,
      "metadata": {
        "id": "gzWWc7123WPW"
      },
      "outputs": [],
      "source": [
        "#include<iostream>\n",
        "#include<vector>\n",
        "#include<numeric>\n",
        "#include<sstream>\n",
        "#include<time.h>\n",
        "#include<string>\n",
        "#include<string.h>\n",
        "\n",
        "using namespace std; // mala practica en desarrollo de software"
      ]
    },
    {
      "cell_type": "markdown",
      "metadata": {
        "id": "Ie6CHPeP3WPX"
      },
      "source": [
        "### I/O"
      ]
    },
    {
      "cell_type": "code",
      "execution_count": null,
      "metadata": {
        "id": "NWuHaPwv3WPX"
      },
      "outputs": [],
      "source": [
        "/*int main(){ //printf y scanf en C++\n",
        "\n",
        "    cout<<\"Hola mundo\"<<endl;\n",
        "    cout << \"Ingresa tu edad\" << endl;\n",
        "    //endl se usa como salto de linea\n",
        "    cout <<\"Ejemplo sin endl\";\n",
        "\n",
        "    int n;\n",
        "\n",
        "    cin>>n;\n",
        "    cout<<\"Tu edad es \"<<n<<endl;\n",
        "    //si quieres usar una variable, debe haber un << separandolo del texto\n",
        "\n",
        "    return 0;\n",
        "}"
      ]
    },
    {
      "cell_type": "markdown",
      "metadata": {
        "id": "yAx5xSL-3WPY"
      },
      "source": [
        "### Tipos de datos y arreglos"
      ]
    },
    {
      "cell_type": "code",
      "execution_count": null,
      "metadata": {
        "id": "jILo-Uw33WPY"
      },
      "outputs": [],
      "source": [
        "struct Cafe{\n",
        "    char* origen;\n",
        "    int fecha_tueste; //formato ddmmyyyy\n",
        "    char nivel_tueste; // c:claro, m:medio, o:oscuro\n",
        "    float precio;\n",
        "    double peso; // en gramos\n",
        "    bool en_stock;\n",
        "};"
      ]
    },
    {
      "cell_type": "code",
      "execution_count": null,
      "metadata": {
        "id": "FFzQLtgD3WPY"
      },
      "outputs": [],
      "source": [
        "Cafe* cafe_brasil = new Cafe;"
      ]
    },
    {
      "cell_type": "code",
      "execution_count": null,
      "metadata": {
        "id": "YYCX6IBL3WPY"
      },
      "outputs": [],
      "source": [
        "cafe_brasil->origen = new char[6];\n",
        "strcpy(cafe_brasil->origen, \"buzos\"); // si no se busca cambiar la cadena de caracteres, basta con asignar normalmente"
      ]
    },
    {
      "cell_type": "code",
      "execution_count": null,
      "metadata": {
        "id": "wl0wojWR3WPY"
      },
      "outputs": [],
      "source": [
        "cafe_brasil->fecha_tueste = 12122022;\n",
        "cafe_brasil->nivel_tueste = 'o';\n",
        "cafe_brasil->precio = 15.990;\n",
        "cafe_brasil->peso = 198.502384;\n",
        "cafe_brasil->en_stock = true;"
      ]
    },
    {
      "cell_type": "markdown",
      "metadata": {
        "id": "-KV5dBt-3WPZ"
      },
      "source": [
        "### Manejo de memoria"
      ]
    },
    {
      "cell_type": "markdown",
      "metadata": {
        "id": "9HrhsGQb3WPZ"
      },
      "source": [
        "En C++ se asigna memoria de 2 maneras:\n",
        "- Stack: se asigna en compilación. No puede ser modificada. Se elimina una vez termina la ejecución.\n",
        "- Heap: se asigna durante la ejecución. Debe ser eliminada manualmente."
      ]
    },
    {
      "cell_type": "markdown",
      "metadata": {
        "id": "hCANRkNY3WPZ"
      },
      "source": [
        "Para qué nos sirve la capacidad de poder eliminar y asignar memoria?\n",
        "\n",
        "Qué problemas puede traer?"
      ]
    },
    {
      "cell_type": "markdown",
      "source": [
        "#Punteros"
      ],
      "metadata": {
        "id": "P0g_GVLS_6ak"
      }
    },
    {
      "cell_type": "code",
      "execution_count": null,
      "metadata": {
        "id": "8BqGKSML3WPZ"
      },
      "outputs": [],
      "source": [
        "// Arregle el siguiente código para que esté correcto\n",
        "int* n;\n",
        "cout<<&n<<endl;\n",
        "&n = 2;\n",
        "cout<<n<<endl;\n",
        "\n",
        "\n",
        "---------------------------------\n",
        "\n",
        "\n",
        "\n",
        "#include <iostream>\n",
        "using namespace std;\n",
        "\n",
        "int main(){\n",
        "\n",
        "int* n = nullptr; // buena práctica inicializar punteros a nulo si no se ocuparán de inmediato\n",
        "cout<<&n<<endl;\n",
        "int m = 2;\n",
        "n = &m;\n",
        "cout<<*n<<endl;\n",
        "\n",
        "\treturn 0;\n",
        "}\n",
        "\n",
        "\n",
        "\n"
      ]
    },
    {
      "cell_type": "markdown",
      "metadata": {
        "id": "4-RpEn4d3WPZ"
      },
      "source": [
        "Dado el siguiente arreglo:"
      ]
    },
    {
      "cell_type": "code",
      "execution_count": null,
      "metadata": {
        "id": "xGr73j0W3WPZ"
      },
      "outputs": [],
      "source": [
        "int *arr = new int[5]; // 0 1 2 3 4"
      ]
    },
    {
      "cell_type": "markdown",
      "metadata": {
        "id": "1sYHI52h3WPa"
      },
      "source": [
        "Como puedo ingresar 6 elementos? ☹️"
      ]
    },
    {
      "cell_type": "code",
      "execution_count": null,
      "metadata": {
        "id": "fCMsYZbs3WPa"
      },
      "outputs": [],
      "source": [
        "// 0 1 2 3 4 5\n",
        "for(int i = 0; i < 6; i++){\n",
        "    if(i == 5){\n",
        "        int* new_arr = new int[6];\n",
        "        for(int j = 0; j < 5; j++) new_arr[j] = arr[j];\n",
        "        delete[] arr;\n",
        "        arr = new_arr;\n",
        "    }\n",
        "    arr[i] = i;\n",
        "}"
      ]
    },
    {
      "cell_type": "code",
      "execution_count": null,
      "metadata": {
        "id": "JKsRDYuM3WPa",
        "outputId": "e6e4efe0-645f-4161-b8ad-64bd3d3b6c5b"
      },
      "outputs": [
        {
          "name": "stdout",
          "output_type": "stream",
          "text": [
            "0 1 2 3 4 5 "
          ]
        }
      ],
      "source": [
        "for(int i = 0; i < 6; i++) cout<<arr[i]<<\" \";"
      ]
    },
    {
      "cell_type": "markdown",
      "metadata": {
        "id": "0irAOM0J3WPa"
      },
      "source": [
        "### Clases de la STL"
      ]
    },
    {
      "cell_type": "markdown",
      "metadata": {
        "id": "qBDYDt-J3WPi"
      },
      "source": [
        "La clases implementadas en la librería standard de C++ es una de las carácteristicas más populares del lenguaje."
      ]
    },
    {
      "cell_type": "code",
      "execution_count": null,
      "metadata": {
        "id": "L8WBT84s3WPi",
        "outputId": "f2e92f5b-ae58-49f7-d182-f8eed9807f6f"
      },
      "outputs": [
        {
          "name": "stdout",
          "output_type": "stream",
          "text": [
            "0 0 0 0 0 0 0 0 0 0 12 "
          ]
        }
      ],
      "source": [
        "vector<int> vec(10, 0); // Vector de 10 enteros lleno de ceros\n",
        "\n",
        "vec.push_back(12);\n",
        "\n",
        "for(int i : vec) cout<<i<<\" \";"
      ]
    },
    {
      "cell_type": "code",
      "execution_count": null,
      "metadata": {
        "id": "VrmfdZi13WPi",
        "outputId": "b3d6afaf-ab98-4619-cab3-b09e6647445f"
      },
      "outputs": [
        {
          "name": "stdout",
          "output_type": "stream",
          "text": [
            "T h e   q u i c k   b r o w n   f o x   j u m p s   o v e r   t h e   l a z y   d o g . "
          ]
        }
      ],
      "source": [
        "string phrase = \"The quick brown fox jumps over the lazy dog.\";\n",
        "for(auto c : phrase) cout<<c<<\" \";"
      ]
    },
    {
      "cell_type": "code",
      "execution_count": null,
      "metadata": {
        "id": "f_UmPGWu3WPi"
      },
      "outputs": [],
      "source": [
        "istringstream ss(phrase);\n",
        "while(ss){\n",
        "    string word;\n",
        "    ss >> word;\n",
        "    cout<<word<<\" \";\n",
        "}"
      ]
    },
    {
      "cell_type": "markdown",
      "metadata": {
        "id": "hlz_crzA3WPi"
      },
      "source": [
        "## Ejercicio"
      ]
    },
    {
      "cell_type": "markdown",
      "metadata": {
        "id": "_H7eKjte3WPj"
      },
      "source": [
        "Crea un código que generé un vector con números del 1 al 1000 ordenados, luego se escoge un valor al azar entre 1 a 1000. Con eso creado, crea el código necesario para adivinarlo en máximo 10 oportunidades, con la\n",
        "condición de que al fallar, se te dirá si el valor que propusiste es mayor o menor al número a adivinar."
      ]
    },
    {
      "cell_type": "code",
      "execution_count": null,
      "metadata": {
        "id": "eXcyTOcH3WPj",
        "outputId": "765b6159-809f-48db-d11f-4be4d02262e0"
      },
      "outputs": [
        {
          "data": {
            "text/plain": []
          },
          "execution_count": 3,
          "metadata": {},
          "output_type": "execute_result"
        }
      ],
      "source": [
        "\n",
        "\n",
        "\n",
        "\n",
        "\n",
        "\n",
        "#include <bits/stdc+++>\n",
        "\n",
        "\n",
        "\n",
        "int main() {\n",
        "\n",
        "    srand(time(nullptr));\n",
        "\n",
        "\n",
        "    vector<int> numeros(1000);\n",
        "    for (int i = 0; i < 1000; ++i) {\n",
        "        numeros[i] = i + 1;\n",
        "    }\n",
        "\n",
        "\n",
        "    int valorAleatorio = rand() % 1000 + 1;\n",
        "\n",
        "\n",
        "    cout << \"¡Bienvenido al juego de adivinanza de números!\" << endl;\n",
        "    cout << \"He seleccionado un número entre 1 y 1000. ¡Adivina cuál es!\" << endl;\n",
        "\n",
        "    int intentos = 0;\n",
        "    int maxIntentos = 10;\n",
        "    int numeroAdivinado;\n",
        "\n",
        "\n",
        "    while (intentos < maxIntentos) {\n",
        "        cout << \"Intento #\" << (intentos + 1) << \": \";\n",
        "        cin >> numeroAdivinado;\n",
        "\n",
        "        if (numeroAdivinado == valorAleatorio) {\n",
        "            cout << \"¡CORRECTO! Has adivinado el número.\" << endl;\n",
        "            break;\n",
        "        } else if (numeroAdivinado < valorAleatorio) {\n",
        "            cout << \"El número que has ingresado es menor.\" << endl;\n",
        "        } else {\n",
        "            cout << \"El número que has ingresado es mayor.\" << endl;\n",
        "        }\n",
        "\n",
        "        intentos++;\n",
        "    }\n",
        "    if (intentos == maxIntentos) {\n",
        "        cout << \"Lo siento, has agotado tus 10 intentos. El número correcto era: \" << valorAleatorio << endl;\n",
        "    }\n",
        "\n",
        "    return 0;\n",
        "}"
      ]
    }
  ],
  "metadata": {
    "kernelspec": {
      "display_name": "C++14",
      "language": "C++14",
      "name": "xcpp14"
    },
    "language_info": {
      "codemirror_mode": "text/x-c++src",
      "file_extension": ".cpp",
      "mimetype": "text/x-c++src",
      "name": "c++",
      "version": "-std=c++14"
    },
    "orig_nbformat": 4,
    "colab": {
      "provenance": []
    }
  },
  "nbformat": 4,
  "nbformat_minor": 0
}